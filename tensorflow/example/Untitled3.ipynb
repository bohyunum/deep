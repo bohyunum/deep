{
 "cells": [
  {
   "cell_type": "code",
   "execution_count": 25,
   "metadata": {},
   "outputs": [],
   "source": [
    "import os\n",
    "import sys\n",
    "import jpype\n",
    "import jaydebeapi as jp\n",
    "import pandas.io.sql as pd_sql\n",
    "from pandas import DataFrame"
   ]
  },
  {
   "cell_type": "code",
   "execution_count": 55,
   "metadata": {},
   "outputs": [
    {
     "name": "stdout",
     "output_type": "stream",
     "text": [
      "Processing c:\\users\\190211\\appdata\\local\\pip\\cache\\wheels\\b7\\6d\\02\\9bc6b4f00c7c0951f0caa56ef05fe5a534ea91fdc1d47474c9\\impyla-0.16.2-py3-none-any.whl\n",
      "Requirement already satisfied: six in d:\\deep\\python\\lib\\site-packages (from impyla) (1.12.0)\n",
      "Requirement already satisfied: thriftpy2<0.5.0,>=0.4.0; python_version >= \"3.0\" in d:\\deep\\python\\lib\\site-packages (from impyla) (0.4.10)\n",
      "Collecting bitarray\n",
      "  Using cached bitarray-1.2.1.tar.gz (48 kB)\n",
      "Requirement already satisfied: thrift>=0.9.3 in d:\\deep\\python\\lib\\site-packages (from impyla) (0.13.0)\n",
      "Requirement already satisfied: ply<4.0,>=3.4 in d:\\deep\\python\\lib\\site-packages (from thriftpy2<0.5.0,>=0.4.0; python_version >= \"3.0\"->impyla) (3.11)\n",
      "Building wheels for collected packages: bitarray\n",
      "  Building wheel for bitarray (setup.py): started\n",
      "  Building wheel for bitarray (setup.py): finished with status 'error'\n",
      "  Running setup.py clean for bitarray\n",
      "Failed to build bitarray\n",
      "Installing collected packages: bitarray, impyla\n",
      "    Running setup.py install for bitarray: started\n",
      "    Running setup.py install for bitarray: finished with status 'error'\n"
     ]
    },
    {
     "name": "stderr",
     "output_type": "stream",
     "text": [
      "  ERROR: Command errored out with exit status 1:\n",
      "   command: 'd:\\deep\\python\\python.exe' -u -c 'import sys, setuptools, tokenize; sys.argv[0] = '\"'\"'C:\\\\Users\\\\190211\\\\AppData\\\\Local\\\\Temp\\\\pip-install-jms_pkpq\\\\bitarray\\\\setup.py'\"'\"'; __file__='\"'\"'C:\\\\Users\\\\190211\\\\AppData\\\\Local\\\\Temp\\\\pip-install-jms_pkpq\\\\bitarray\\\\setup.py'\"'\"';f=getattr(tokenize, '\"'\"'open'\"'\"', open)(__file__);code=f.read().replace('\"'\"'\\r\\n'\"'\"', '\"'\"'\\n'\"'\"');f.close();exec(compile(code, __file__, '\"'\"'exec'\"'\"'))' bdist_wheel -d 'C:\\Users\\190211\\AppData\\Local\\Temp\\pip-wheel-vyegnadj'\n",
      "       cwd: C:\\Users\\190211\\AppData\\Local\\Temp\\pip-install-jms_pkpq\\bitarray\\\n",
      "  Complete output (13 lines):\n",
      "  running bdist_wheel\n",
      "  running build\n",
      "  running build_py\n",
      "  creating build\n",
      "  creating build\\lib.win-amd64-3.7\n",
      "  creating build\\lib.win-amd64-3.7\\bitarray\n",
      "  copying bitarray\\test_bitarray.py -> build\\lib.win-amd64-3.7\\bitarray\n",
      "  copying bitarray\\test_util.py -> build\\lib.win-amd64-3.7\\bitarray\n",
      "  copying bitarray\\util.py -> build\\lib.win-amd64-3.7\\bitarray\n",
      "  copying bitarray\\__init__.py -> build\\lib.win-amd64-3.7\\bitarray\n",
      "  running build_ext\n",
      "  building 'bitarray._bitarray' extension\n",
      "  error: Microsoft Visual C++ 14.0 is required. Get it with \"Microsoft Visual C++ Build Tools\": https://visualstudio.microsoft.com/downloads/\n",
      "  ----------------------------------------\n",
      "  ERROR: Failed building wheel for bitarray\n",
      "    ERROR: Command errored out with exit status 1:\n",
      "     command: 'd:\\deep\\python\\python.exe' -u -c 'import sys, setuptools, tokenize; sys.argv[0] = '\"'\"'C:\\\\Users\\\\190211\\\\AppData\\\\Local\\\\Temp\\\\pip-install-jms_pkpq\\\\bitarray\\\\setup.py'\"'\"'; __file__='\"'\"'C:\\\\Users\\\\190211\\\\AppData\\\\Local\\\\Temp\\\\pip-install-jms_pkpq\\\\bitarray\\\\setup.py'\"'\"';f=getattr(tokenize, '\"'\"'open'\"'\"', open)(__file__);code=f.read().replace('\"'\"'\\r\\n'\"'\"', '\"'\"'\\n'\"'\"');f.close();exec(compile(code, __file__, '\"'\"'exec'\"'\"'))' install --record 'C:\\Users\\190211\\AppData\\Local\\Temp\\pip-record-a1bv8q_v\\install-record.txt' --single-version-externally-managed --compile --install-headers 'd:\\deep\\python\\Include\\bitarray'\n",
      "         cwd: C:\\Users\\190211\\AppData\\Local\\Temp\\pip-install-jms_pkpq\\bitarray\\\n",
      "    Complete output (13 lines):\n",
      "    running install\n",
      "    running build\n",
      "    running build_py\n",
      "    creating build\n",
      "    creating build\\lib.win-amd64-3.7\n",
      "    creating build\\lib.win-amd64-3.7\\bitarray\n",
      "    copying bitarray\\test_bitarray.py -> build\\lib.win-amd64-3.7\\bitarray\n",
      "    copying bitarray\\test_util.py -> build\\lib.win-amd64-3.7\\bitarray\n",
      "    copying bitarray\\util.py -> build\\lib.win-amd64-3.7\\bitarray\n",
      "    copying bitarray\\__init__.py -> build\\lib.win-amd64-3.7\\bitarray\n",
      "    running build_ext\n",
      "    building 'bitarray._bitarray' extension\n",
      "    error: Microsoft Visual C++ 14.0 is required. Get it with \"Microsoft Visual C++ Build Tools\": https://visualstudio.microsoft.com/downloads/\n",
      "    ----------------------------------------\n",
      "ERROR: Command errored out with exit status 1: 'd:\\deep\\python\\python.exe' -u -c 'import sys, setuptools, tokenize; sys.argv[0] = '\"'\"'C:\\\\Users\\\\190211\\\\AppData\\\\Local\\\\Temp\\\\pip-install-jms_pkpq\\\\bitarray\\\\setup.py'\"'\"'; __file__='\"'\"'C:\\\\Users\\\\190211\\\\AppData\\\\Local\\\\Temp\\\\pip-install-jms_pkpq\\\\bitarray\\\\setup.py'\"'\"';f=getattr(tokenize, '\"'\"'open'\"'\"', open)(__file__);code=f.read().replace('\"'\"'\\r\\n'\"'\"', '\"'\"'\\n'\"'\"');f.close();exec(compile(code, __file__, '\"'\"'exec'\"'\"'))' install --record 'C:\\Users\\190211\\AppData\\Local\\Temp\\pip-record-a1bv8q_v\\install-record.txt' --single-version-externally-managed --compile --install-headers 'd:\\deep\\python\\Include\\bitarray' Check the logs for full command output.\n"
     ]
    }
   ],
   "source": [
    "!pip install impyla"
   ]
  },
  {
   "cell_type": "code",
   "execution_count": 34,
   "metadata": {},
   "outputs": [],
   "source": [
    "if(\"JAVA_HOME\" not in os.environ):\n",
    "    os.environ[\"JAVA_HOME\"] = \"C:/Program Files/Java/jre1.8.0_231/bin/\""
   ]
  },
  {
   "cell_type": "code",
   "execution_count": 35,
   "metadata": {},
   "outputs": [],
   "source": [
    "JDBC_Driver = 'D:/project_incubator/Impala/ImpalaJDBC41.jar'"
   ]
  },
  {
   "cell_type": "code",
   "execution_count": 36,
   "metadata": {},
   "outputs": [],
   "source": [
    "jar = r'D:/project_incubator/Impala/ojdbc6.jar'"
   ]
  },
  {
   "cell_type": "code",
   "execution_count": 37,
   "metadata": {},
   "outputs": [],
   "source": [
    "args = '-Djava.class.path=%s' % jar"
   ]
  },
  {
   "cell_type": "code",
   "execution_count": 38,
   "metadata": {},
   "outputs": [
    {
     "name": "stdout",
     "output_type": "stream",
     "text": [
      "Python Version :  3.7.5 (tags/v3.7.5:5c02a39a0b, Oct 15 2019, 00:11:34) [MSC v.1916 64 bit (AMD64)]\n"
     ]
    }
   ],
   "source": [
    "print('Python Version : ', sys.version)"
   ]
  },
  {
   "cell_type": "code",
   "execution_count": 39,
   "metadata": {},
   "outputs": [
    {
     "name": "stdout",
     "output_type": "stream",
     "text": [
      "JAVA_HOME :  [JAVA_HOME path]\n"
     ]
    }
   ],
   "source": [
    "print('JAVA_HOME : ', os.environ[\"JAVA_HOME\"])"
   ]
  },
  {
   "cell_type": "code",
   "execution_count": 46,
   "metadata": {},
   "outputs": [
    {
     "name": "stdout",
     "output_type": "stream",
     "text": [
      "JDBC_Driver Path :  D:/project_incubator/Impala/ImpalaJDBC41.jar\n"
     ]
    }
   ],
   "source": [
    "print('JDBC_Driver Path : ', JDBC_Driver)"
   ]
  },
  {
   "cell_type": "code",
   "execution_count": 52,
   "metadata": {},
   "outputs": [
    {
     "ename": "AttributeError",
     "evalue": "'_jpype.PyJPField' object has no attribute 'getStaticAttribute'",
     "output_type": "error",
     "traceback": [
      "\u001b[1;31m---------------------------------------------------------------------------\u001b[0m",
      "\u001b[1;31mAttributeError\u001b[0m                            Traceback (most recent call last)",
      "\u001b[1;32m<ipython-input-52-524c1c0481b6>\u001b[0m in \u001b[0;36m<module>\u001b[1;34m\u001b[0m\n\u001b[1;32m----> 1\u001b[1;33m \u001b[0mconn\u001b[0m \u001b[1;33m=\u001b[0m \u001b[0mjp\u001b[0m\u001b[1;33m.\u001b[0m\u001b[0mconnect\u001b[0m\u001b[1;33m(\u001b[0m\u001b[1;34m'oracle.jdbc.driver.OracleDriver'\u001b[0m\u001b[1;33m,\u001b[0m\u001b[1;34m'jdbc:oracle:thin:[user]/[password]@[oracle ip]:[oracle poart]/[sid]'\u001b[0m\u001b[1;33m,\u001b[0m \u001b[0mJDBC_Driver\u001b[0m\u001b[1;33m)\u001b[0m\u001b[1;33m\u001b[0m\u001b[1;33m\u001b[0m\u001b[0m\n\u001b[0m",
      "\u001b[1;32md:\\deep\\python\\lib\\site-packages\\jaydebeapi\\__init__.py\u001b[0m in \u001b[0;36mconnect\u001b[1;34m(jclassname, url, driver_args, jars, libs)\u001b[0m\n\u001b[0;32m    379\u001b[0m     \u001b[1;32melse\u001b[0m\u001b[1;33m:\u001b[0m\u001b[1;33m\u001b[0m\u001b[1;33m\u001b[0m\u001b[0m\n\u001b[0;32m    380\u001b[0m         \u001b[0mlibs\u001b[0m \u001b[1;33m=\u001b[0m \u001b[1;33m[\u001b[0m\u001b[1;33m]\u001b[0m\u001b[1;33m\u001b[0m\u001b[1;33m\u001b[0m\u001b[0m\n\u001b[1;32m--> 381\u001b[1;33m     \u001b[0mjconn\u001b[0m \u001b[1;33m=\u001b[0m \u001b[0m_jdbc_connect\u001b[0m\u001b[1;33m(\u001b[0m\u001b[0mjclassname\u001b[0m\u001b[1;33m,\u001b[0m \u001b[0murl\u001b[0m\u001b[1;33m,\u001b[0m \u001b[0mdriver_args\u001b[0m\u001b[1;33m,\u001b[0m \u001b[0mjars\u001b[0m\u001b[1;33m,\u001b[0m \u001b[0mlibs\u001b[0m\u001b[1;33m)\u001b[0m\u001b[1;33m\u001b[0m\u001b[1;33m\u001b[0m\u001b[0m\n\u001b[0m\u001b[0;32m    382\u001b[0m     \u001b[1;32mreturn\u001b[0m \u001b[0mConnection\u001b[0m\u001b[1;33m(\u001b[0m\u001b[0mjconn\u001b[0m\u001b[1;33m,\u001b[0m \u001b[0m_converters\u001b[0m\u001b[1;33m)\u001b[0m\u001b[1;33m\u001b[0m\u001b[1;33m\u001b[0m\u001b[0m\n\u001b[0;32m    383\u001b[0m \u001b[1;33m\u001b[0m\u001b[0m\n",
      "\u001b[1;32md:\\deep\\python\\lib\\site-packages\\jaydebeapi\\__init__.py\u001b[0m in \u001b[0;36m_jdbc_connect_jpype\u001b[1;34m(jclassname, url, driver_args, jars, libs)\u001b[0m\n\u001b[0;32m    181\u001b[0m         \u001b[0mtypes_map\u001b[0m \u001b[1;33m=\u001b[0m \u001b[1;33m{\u001b[0m\u001b[1;33m}\u001b[0m\u001b[1;33m\u001b[0m\u001b[1;33m\u001b[0m\u001b[0m\n\u001b[0;32m    182\u001b[0m         \u001b[1;32mfor\u001b[0m \u001b[0mi\u001b[0m \u001b[1;32min\u001b[0m \u001b[0mtypes\u001b[0m\u001b[1;33m.\u001b[0m\u001b[0m__javaclass__\u001b[0m\u001b[1;33m.\u001b[0m\u001b[0mgetClassFields\u001b[0m\u001b[1;33m(\u001b[0m\u001b[1;33m)\u001b[0m\u001b[1;33m:\u001b[0m\u001b[1;33m\u001b[0m\u001b[1;33m\u001b[0m\u001b[0m\n\u001b[1;32m--> 183\u001b[1;33m             \u001b[0mtypes_map\u001b[0m\u001b[1;33m[\u001b[0m\u001b[0mi\u001b[0m\u001b[1;33m.\u001b[0m\u001b[0mgetName\u001b[0m\u001b[1;33m(\u001b[0m\u001b[1;33m)\u001b[0m\u001b[1;33m]\u001b[0m \u001b[1;33m=\u001b[0m \u001b[0mi\u001b[0m\u001b[1;33m.\u001b[0m\u001b[0mgetStaticAttribute\u001b[0m\u001b[1;33m(\u001b[0m\u001b[1;33m)\u001b[0m\u001b[1;33m\u001b[0m\u001b[1;33m\u001b[0m\u001b[0m\n\u001b[0m\u001b[0;32m    184\u001b[0m         \u001b[0m_init_types\u001b[0m\u001b[1;33m(\u001b[0m\u001b[0mtypes_map\u001b[0m\u001b[1;33m)\u001b[0m\u001b[1;33m\u001b[0m\u001b[1;33m\u001b[0m\u001b[0m\n\u001b[0;32m    185\u001b[0m     \u001b[1;32mglobal\u001b[0m \u001b[0m_java_array_byte\u001b[0m\u001b[1;33m\u001b[0m\u001b[1;33m\u001b[0m\u001b[0m\n",
      "\u001b[1;31mAttributeError\u001b[0m: '_jpype.PyJPField' object has no attribute 'getStaticAttribute'"
     ]
    }
   ],
   "source": [
    "conn = jp.connect('oracle.jdbc.driver.OracleDriver','jdbc:oracle:thin:[user]/[password]@[oracle ip]:[oracle poart]/[sid]', JDBC_Driver)"
   ]
  },
  {
   "cell_type": "code",
   "execution_count": null,
   "metadata": {},
   "outputs": [],
   "source": []
  },
  {
   "cell_type": "code",
   "execution_count": null,
   "metadata": {},
   "outputs": [],
   "source": []
  }
 ],
 "metadata": {
  "kernelspec": {
   "display_name": "Python 3",
   "language": "python",
   "name": "python3"
  },
  "language_info": {
   "codemirror_mode": {
    "name": "ipython",
    "version": 3
   },
   "file_extension": ".py",
   "mimetype": "text/x-python",
   "name": "python",
   "nbconvert_exporter": "python",
   "pygments_lexer": "ipython3",
   "version": "3.7.5"
  }
 },
 "nbformat": 4,
 "nbformat_minor": 2
}
