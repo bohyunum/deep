{
 "cells": [
  {
   "cell_type": "code",
   "execution_count": 1,
   "metadata": {},
   "outputs": [],
   "source": [
    "from impala.dbapi import connect\n",
    "import seaborn as sns\n",
    "import pandas as pd"
   ]
  },
  {
   "cell_type": "code",
   "execution_count": 2,
   "metadata": {},
   "outputs": [],
   "source": [
    "conn = connect(host='10.50.21.197', port=21050)"
   ]
  },
  {
   "cell_type": "code",
   "execution_count": 3,
   "metadata": {},
   "outputs": [],
   "source": [
    "cursor = conn.cursor()"
   ]
  },
  {
   "cell_type": "code",
   "execution_count": 4,
   "metadata": {},
   "outputs": [],
   "source": [
    "cursor.execute('select vehicle_current_position, rms1, rms2, rms3 from sfa.t_oht01 limit 100')"
   ]
  },
  {
   "cell_type": "code",
   "execution_count": 5,
   "metadata": {},
   "outputs": [],
   "source": [
    "results = cursor.fetchall()"
   ]
  },
  {
   "cell_type": "code",
   "execution_count": 6,
   "metadata": {},
   "outputs": [
    {
     "name": "stdout",
     "output_type": "stream",
     "text": [
      "[(3164.0, 109.53, 104.81, 106.35), (3164.0, 108.12, 104.82, 109.47), (3227.0, 111.63, 108.16, 110.3), (3178.0, 107.18, 197.06, 107.52), (3164.0, 106.97, 102.14, 105.68), (3181.0, 109.52, 101.23, 108.78), (3164.0, 101.1, 104.01, 104.1), (3164.0, 105.27, 109.26, 102.25), (3227.0, 104.93, 101.42, 104.58), (3164.0, 106.73, 104.22, 108.7), (3222.0, 105.94, 107.59, 108.77), (3222.0, 107.97, 105.83, 105.01), (3227.0, 103.94, 106.43, 101.82), (3181.0, 107.64, 104.93, 105.15), (3222.0, 108.46, 131.69, 109.14), (3164.0, 107.51, 101.34, 103.35), (3181.0, 103.83, 108.44, 106.79), (3164.0, 103.65, 103.93, 102.01), (3164.0, 105.37, 108.03, 110.48), (3164.0, 105.04, 102.97, 103.09), (3164.0, 102.53, 102.25, 103.95), (3165.0, 103.15, 126.91, 107.32), (3181.0, 107.96, 153.13, 110.15), (None, None, None, None), (3179.0, 108.74, 108.49, 118.56), (3164.0, 107.14, 103.7, 111.59), (3164.0, 107.56, 105.85, 109.38), (3164.0, 103.97, 106.03, 104.47), (3164.0, 107.98, 98.09, 107.53), (3164.0, 102.43, 106.16, 104.65), (3181.0, 107.3, 105.11, 111.32), (3164.0, 103.07, 103.12, 102.44), (3227.0, 105.2, 105.55, 101.24), (3164.0, 104.99, 101.52, 102.34), (3164.0, 104.05, 102.43, 102.31), (None, None, None, None), (3164.0, 99.91, 106.13, 106.67), (3164.0, 105.68, 104.28, 106.61), (3227.0, 103.61, 98.65, 105.73), (None, None, None, None), (3164.0, 108.34, 104.86, 105.22), (3181.0, 112.27, 110.9, 108.2), (3164.0, 104.74, 102.63, 105.67), (3178.0, 102.82, 107.53, 101.33), (3164.0, 107.01, 104.4, 106.86), (3227.0, 103.49, 101.67, 98.92), (3164.0, 106.1, 111.67, 107.8), (3179.0, 106.8, 102.78, 105.72), (3164.0, 104.6, 112.36, 108.16), (3164.0, 105.93, 105.15, 107.41), (3164.0, 105.89, 107.27, 108.83), (3164.0, 102.29, 103.25, 100.19), (3164.0, 104.59, 107.51, 106.85), (3164.0, 104.8, 105.91, 104.59), (3227.0, 108.59, 113.12, 110.5), (3164.0, 109.75, 101.73, 106.34), (3227.0, 101.44, 102.41, 102.11), (3164.0, 103.66, 100.79, 103.17), (3164.0, 104.87, 110.49, 106.13), (3164.0, 108.05, 109.78, 108.24), (None, None, None, None), (3164.0, 102.0, 106.86, 109.7), (3164.0, 106.85, 101.43, 105.27), (3164.0, 104.68, 108.73, 107.14), (3164.0, 105.76, 102.76, 103.11), (3227.0, 105.08, 104.03, 104.23), (3227.0, 109.11, 103.38, 102.36), (3164.0, 108.86, 105.79, 103.23), (3227.0, 103.99, 102.36, 101.96), (3227.0, 105.21, 103.15, 105.89), (3164.0, 108.11, 100.86, 105.22), (3164.0, 106.92, 107.09, 107.49), (3227.0, 100.66, 100.94, 100.49), (3164.0, 108.43, 107.0, 102.26), (3164.0, 105.28, 100.86, 98.76), (3227.0, 104.7, 104.55, 103.26), (3164.0, 106.58, 107.69, 109.56), (3164.0, 107.53, 105.01, 110.48), (3164.0, 112.42, 107.29, 104.2), (3164.0, 109.37, 104.97, 107.14), (3227.0, 105.35, 105.48, 100.43), (None, None, None, None), (3164.0, 110.59, 107.49, 107.96), (3227.0, 105.75, 104.91, 102.93), (3227.0, 106.97, 107.76, 108.31), (3227.0, 107.18, 99.41, 105.94), (3164.0, 108.33, 102.65, 105.87), (3227.0, 108.12, 106.12, 110.44), (3164.0, 103.12, 104.11, 104.08), (3227.0, 103.24, 105.77, 106.26), (3178.0, 103.91, 226.29, 105.56), (3181.0, 115.02, 107.93, 106.13), (3164.0, 101.97, 102.17, 100.23), (3164.0, 103.9, 101.43, 98.9), (3164.0, 100.84, 101.22, 106.4), (3164.0, 109.59, 104.32, 105.5), (None, None, None, None), (3181.0, 104.92, 102.27, 102.61), (3181.0, 109.04, 118.54, 108.58), (3164.0, 105.43, 105.77, 104.8)]\n"
     ]
    }
   ],
   "source": [
    "print(results)"
   ]
  },
  {
   "cell_type": "code",
   "execution_count": 7,
   "metadata": {},
   "outputs": [],
   "source": [
    "column_list = ['vehicle_current_position', 'rms1', 'rms2', 'rms3']\n",
    "df = pd.DataFrame(results, columns=column_list)"
   ]
  },
  {
   "cell_type": "code",
   "execution_count": 8,
   "metadata": {},
   "outputs": [
    {
     "data": {
      "text/html": [
       "<div>\n",
       "<style scoped>\n",
       "    .dataframe tbody tr th:only-of-type {\n",
       "        vertical-align: middle;\n",
       "    }\n",
       "\n",
       "    .dataframe tbody tr th {\n",
       "        vertical-align: top;\n",
       "    }\n",
       "\n",
       "    .dataframe thead th {\n",
       "        text-align: right;\n",
       "    }\n",
       "</style>\n",
       "<table border=\"1\" class=\"dataframe\">\n",
       "  <thead>\n",
       "    <tr style=\"text-align: right;\">\n",
       "      <th></th>\n",
       "      <th>vehicle_current_position</th>\n",
       "      <th>rms1</th>\n",
       "      <th>rms2</th>\n",
       "      <th>rms3</th>\n",
       "    </tr>\n",
       "  </thead>\n",
       "  <tbody>\n",
       "    <tr>\n",
       "      <td>0</td>\n",
       "      <td>3164.0</td>\n",
       "      <td>109.53</td>\n",
       "      <td>104.81</td>\n",
       "      <td>106.35</td>\n",
       "    </tr>\n",
       "    <tr>\n",
       "      <td>1</td>\n",
       "      <td>3164.0</td>\n",
       "      <td>108.12</td>\n",
       "      <td>104.82</td>\n",
       "      <td>109.47</td>\n",
       "    </tr>\n",
       "    <tr>\n",
       "      <td>2</td>\n",
       "      <td>3227.0</td>\n",
       "      <td>111.63</td>\n",
       "      <td>108.16</td>\n",
       "      <td>110.30</td>\n",
       "    </tr>\n",
       "    <tr>\n",
       "      <td>3</td>\n",
       "      <td>3178.0</td>\n",
       "      <td>107.18</td>\n",
       "      <td>197.06</td>\n",
       "      <td>107.52</td>\n",
       "    </tr>\n",
       "    <tr>\n",
       "      <td>4</td>\n",
       "      <td>3164.0</td>\n",
       "      <td>106.97</td>\n",
       "      <td>102.14</td>\n",
       "      <td>105.68</td>\n",
       "    </tr>\n",
       "  </tbody>\n",
       "</table>\n",
       "</div>"
      ],
      "text/plain": [
       "   vehicle_current_position    rms1    rms2    rms3\n",
       "0                    3164.0  109.53  104.81  106.35\n",
       "1                    3164.0  108.12  104.82  109.47\n",
       "2                    3227.0  111.63  108.16  110.30\n",
       "3                    3178.0  107.18  197.06  107.52\n",
       "4                    3164.0  106.97  102.14  105.68"
      ]
     },
     "execution_count": 8,
     "metadata": {},
     "output_type": "execute_result"
    }
   ],
   "source": [
    "df.head()"
   ]
  },
  {
   "cell_type": "code",
   "execution_count": null,
   "metadata": {
    "scrolled": true
   },
   "outputs": [],
   "source": [
    "sns.distplot(df['rms3'])"
   ]
  },
  {
   "cell_type": "code",
   "execution_count": null,
   "metadata": {},
   "outputs": [],
   "source": [
    "sns.distplot(df['rms2'])"
   ]
  },
  {
   "cell_type": "code",
   "execution_count": null,
   "metadata": {},
   "outputs": [],
   "source": [
    "sns.scatterplot(x = 'vehicle_current_position', y = 'rms1', data = df)"
   ]
  },
  {
   "cell_type": "code",
   "execution_count": null,
   "metadata": {},
   "outputs": [],
   "source": [
    "sns.scatterplot(x = 'vehicle_current_position', y = 'rms1', data = df, hue = 'rms1')"
   ]
  },
  {
   "cell_type": "code",
   "execution_count": null,
   "metadata": {
    "scrolled": true
   },
   "outputs": [],
   "source": []
  },
  {
   "cell_type": "code",
   "execution_count": null,
   "metadata": {},
   "outputs": [],
   "source": []
  },
  {
   "cell_type": "code",
   "execution_count": null,
   "metadata": {},
   "outputs": [],
   "source": []
  }
 ],
 "metadata": {
  "kernelspec": {
   "display_name": "Python 3",
   "language": "python",
   "name": "python3"
  },
  "language_info": {
   "codemirror_mode": {
    "name": "ipython",
    "version": 3
   },
   "file_extension": ".py",
   "mimetype": "text/x-python",
   "name": "python",
   "nbconvert_exporter": "python",
   "pygments_lexer": "ipython3",
   "version": "3.7.5"
  }
 },
 "nbformat": 4,
 "nbformat_minor": 2
}
