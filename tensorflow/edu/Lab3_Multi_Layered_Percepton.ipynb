{
 "cells": [
  {
   "cell_type": "code",
   "execution_count": 1,
   "metadata": {
    "collapsed": true
   },
   "outputs": [],
   "source": [
    "from __future__ import print_function #Python2.x에서도 print문 실행되도록 하기 위해 추가\n",
    "import tensorflow as tf"
   ]
  },
  {
   "cell_type": "code",
   "execution_count": 2,
   "metadata": {
    "collapsed": true
   },
   "outputs": [],
   "source": [
    "input1 = tf.constant([3.,3.,5.,6.], shape=[1, 4]) #input 1 x 4\n",
    "\n",
    "W1 = tf.Variable(tf.zeros([4, 2])) #hidden1 4 x 2. 0으로 초기화(평균:0 표준편차:1.0)\n",
    "b1 = tf.Variable(tf.zeros([2])) #hidden1 bias\n",
    "\n",
    "W2 = tf.Variable(tf.zeros([2, 3])) #hidden2 2 x 3\n",
    "b2 = tf.Variable(tf.zeros([3])) #hidden2 bias\n",
    "\n",
    "W3 = tf.Variable(tf.zeros([3, 1])) #output 3 x 1\n",
    "b3 = tf.Variable(tf.zeros([1])) #output bias"
   ]
  },
  {
   "cell_type": "code",
   "execution_count": 3,
   "metadata": {
    "collapsed": true
   },
   "outputs": [],
   "source": [
    "sum1 = tf.matmul(input1, W1) + b1  #Summary\n",
    "out1 = tf.nn.sigmoid(sum1)  #Activation Function\n",
    "\n",
    "sum2 = tf.matmul(out1, W2) + b2\n",
    "out2 = tf.nn.sigmoid(sum2)\n",
    "\n",
    "final = tf.matmul(out2, W3) + b3 #Output은 Softmax 또는 없이"
   ]
  },
  {
   "cell_type": "code",
   "execution_count": 4,
   "metadata": {},
   "outputs": [
    {
     "name": "stdout",
     "output_type": "stream",
     "text": [
      "sum1=  [[ 0.  0.]]\n",
      "out1=  [[ 0.5  0.5]]\n",
      "sum2=  [[ 0.  0.  0.]]\n",
      "out2=  [[ 0.5  0.5  0.5]]\n",
      "final=  [[ 0.]]\n"
     ]
    }
   ],
   "source": [
    "init = tf.global_variables_initializer() #tensor초기화\n",
    "\n",
    "with tf.Session() as sess:\n",
    "    sess.run(init) #초기화 실행\n",
    "\n",
    "    print(\"sum1= \",sess.run(sum1));\n",
    "    print(\"out1= \",sess.run(out1));\n",
    "    print(\"sum2= \",sess.run(sum2));\n",
    "    print(\"out2= \",sess.run(out2));\n",
    "    print(\"final= \",sess.run(final));"
   ]
  },
  {
   "cell_type": "code",
   "execution_count": null,
   "metadata": {
    "collapsed": true
   },
   "outputs": [],
   "source": []
  }
 ],
 "metadata": {
  "kernelspec": {
   "display_name": "Python 3",
   "language": "python",
   "name": "python3"
  },
  "language_info": {
   "codemirror_mode": {
    "name": "ipython",
    "version": 3
   },
   "file_extension": ".py",
   "mimetype": "text/x-python",
   "name": "python",
   "nbconvert_exporter": "python",
   "pygments_lexer": "ipython3",
   "version": "3.6.1"
  }
 },
 "nbformat": 4,
 "nbformat_minor": 2
}
