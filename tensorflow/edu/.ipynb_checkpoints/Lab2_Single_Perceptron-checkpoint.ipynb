{
 "cells": [
  {
   "cell_type": "code",
   "execution_count": 1,
   "metadata": {
    "collapsed": true
   },
   "outputs": [],
   "source": [
    "from __future__ import print_function #Python2.x에서도 print문 실행되도록 하기 위해 추가\n",
    "import tensorflow as tf\n",
    "\n",
    "x = tf.constant([[2.,3.,-1.,5.,1.]]) # 1x5 matrix\n",
    "W = tf.constant([[0.1],[0.5],[2.5],[0.2],[3.0]]) #5x1 matrix\n",
    "\n",
    "model = tf.matmul(x, W)\n",
    "output = tf.nn.sigmoid(model)"
   ]
  },
  {
   "cell_type": "code",
   "execution_count": 2,
   "metadata": {},
   "outputs": [
    {
     "name": "stdout",
     "output_type": "stream",
     "text": [
      "sum= [[ 3.20000005]]\n",
      "sigmoid= [[ 0.96083426]]\n"
     ]
    }
   ],
   "source": [
    "with tf.Session() as sess: #sess.close() 안해도 됨\n",
    "    print(\"sum=\",sess.run(model));\n",
    "    print(\"sigmoid=\",sess.run(output));"
   ]
  },
  {
   "cell_type": "code",
   "execution_count": null,
   "metadata": {
    "collapsed": true
   },
   "outputs": [],
   "source": []
  }
 ],
 "metadata": {
  "kernelspec": {
   "display_name": "Python 3",
   "language": "python",
   "name": "python3"
  },
  "language_info": {
   "codemirror_mode": {
    "name": "ipython",
    "version": 3
   },
   "file_extension": ".py",
   "mimetype": "text/x-python",
   "name": "python",
   "nbconvert_exporter": "python",
   "pygments_lexer": "ipython3",
   "version": "3.6.1"
  }
 },
 "nbformat": 4,
 "nbformat_minor": 2
}
