{
 "cells": [
  {
   "cell_type": "code",
   "execution_count": 1,
   "metadata": {},
   "outputs": [
    {
     "name": "stdout",
     "output_type": "stream",
     "text": [
      "WARNING:tensorflow:From <ipython-input-1-24425a147f62>:6: read_data_sets (from tensorflow.contrib.learn.python.learn.datasets.mnist) is deprecated and will be removed in a future version.\n",
      "Instructions for updating:\n",
      "Please use alternatives such as official/mnist/dataset.py from tensorflow/models.\n",
      "WARNING:tensorflow:From d:\\deep\\python\\lib\\site-packages\\tensorflow_core\\contrib\\learn\\python\\learn\\datasets\\mnist.py:260: maybe_download (from tensorflow.contrib.learn.python.learn.datasets.base) is deprecated and will be removed in a future version.\n",
      "Instructions for updating:\n",
      "Please write your own downloading logic.\n",
      "WARNING:tensorflow:From d:\\deep\\python\\lib\\site-packages\\tensorflow_core\\contrib\\learn\\python\\learn\\datasets\\base.py:252: _internal_retry.<locals>.wrap.<locals>.wrapped_fn (from tensorflow.contrib.learn.python.learn.datasets.base) is deprecated and will be removed in a future version.\n",
      "Instructions for updating:\n",
      "Please use urllib or similar directly.\n",
      "Successfully downloaded train-images-idx3-ubyte.gz 9912422 bytes.\n",
      "WARNING:tensorflow:From d:\\deep\\python\\lib\\site-packages\\tensorflow_core\\contrib\\learn\\python\\learn\\datasets\\mnist.py:262: extract_images (from tensorflow.contrib.learn.python.learn.datasets.mnist) is deprecated and will be removed in a future version.\n",
      "Instructions for updating:\n",
      "Please use tf.data to implement this functionality.\n",
      "Extracting /tensorflow/mnistdata\\train-images-idx3-ubyte.gz\n",
      "Successfully downloaded train-labels-idx1-ubyte.gz 28881 bytes.\n",
      "WARNING:tensorflow:From d:\\deep\\python\\lib\\site-packages\\tensorflow_core\\contrib\\learn\\python\\learn\\datasets\\mnist.py:267: extract_labels (from tensorflow.contrib.learn.python.learn.datasets.mnist) is deprecated and will be removed in a future version.\n",
      "Instructions for updating:\n",
      "Please use tf.data to implement this functionality.\n",
      "Extracting /tensorflow/mnistdata\\train-labels-idx1-ubyte.gz\n",
      "WARNING:tensorflow:From d:\\deep\\python\\lib\\site-packages\\tensorflow_core\\contrib\\learn\\python\\learn\\datasets\\mnist.py:110: dense_to_one_hot (from tensorflow.contrib.learn.python.learn.datasets.mnist) is deprecated and will be removed in a future version.\n",
      "Instructions for updating:\n",
      "Please use tf.one_hot on tensors.\n",
      "Successfully downloaded t10k-images-idx3-ubyte.gz 1648877 bytes.\n",
      "Extracting /tensorflow/mnistdata\\t10k-images-idx3-ubyte.gz\n",
      "Successfully downloaded t10k-labels-idx1-ubyte.gz 4542 bytes.\n",
      "Extracting /tensorflow/mnistdata\\t10k-labels-idx1-ubyte.gz\n",
      "WARNING:tensorflow:From d:\\deep\\python\\lib\\site-packages\\tensorflow_core\\contrib\\learn\\python\\learn\\datasets\\mnist.py:290: DataSet.__init__ (from tensorflow.contrib.learn.python.learn.datasets.mnist) is deprecated and will be removed in a future version.\n",
      "Instructions for updating:\n",
      "Please use alternatives such as official/mnist/dataset.py from tensorflow/models.\n"
     ]
    }
   ],
   "source": [
    "from __future__ import print_function\n",
    "import tensorflow as tf\n",
    "from tensorflow.examples.tutorials.mnist import input_data\n",
    "\n",
    "#MNIST 다운로드\n",
    "mnist      = input_data.read_data_sets('/tensorflow/mnistdata', one_hot=True) #숫자 하나만 선택되도록"
   ]
  },
  {
   "cell_type": "code",
   "execution_count": 2,
   "metadata": {},
   "outputs": [
    {
     "name": "stdout",
     "output_type": "stream",
     "text": [
      "WARNING:tensorflow:From <ipython-input-2-588321c0d6dd>:23: softmax_cross_entropy_with_logits (from tensorflow.python.ops.nn_ops) is deprecated and will be removed in a future version.\n",
      "Instructions for updating:\n",
      "\n",
      "Future major versions of TensorFlow will allow gradients to flow\n",
      "into the labels input on backprop by default.\n",
      "\n",
      "See `tf.nn.softmax_cross_entropy_with_logits_v2`.\n",
      "\n"
     ]
    }
   ],
   "source": [
    "# Hyper Parameters\n",
    "learning_rate = 0.05\n",
    "training_epochs = 20\n",
    "batch_size = 100\n",
    "display_step = 1\n",
    "logs_path = '/deep/tensorflow/log'\n",
    "\n",
    "# tf Graph Input\n",
    "x_input = tf.placeholder(tf.float32, [None, 784], name='InputData') # MNIST 이미지 사이즈 28*28=784\n",
    "y_label = tf.placeholder(tf.float32, [None, 10], name='LabelData')  # 0-9 범위안의 답 => 10 classes\n",
    "\n",
    "# Weight와 Bias 초기화 \n",
    "W1 = tf.Variable(tf.random_normal([784, 100], mean=0.0, stddev=1.0))\n",
    "b1 = tf.Variable(tf.zeros([100]))\n",
    "W2 = tf.Variable(tf.random_normal([100, 10], mean=0.0, stddev=1.0))\n",
    "b2 = tf.Variable(tf.zeros([10]))\n",
    "\n",
    "with tf.name_scope('Model'):\n",
    "    hidden1 = tf.sigmoid(tf.matmul(x_input, W1) + b1)\n",
    "    predict = tf.matmul(hidden1, W2) + b2 #분류를 위해 Softmax가 필요하나, 아래 cost함수에서 함께해 줌\n",
    "    \n",
    "with tf.name_scope('Loss'):\n",
    "    cross_entropy_cost = tf.reduce_mean(tf.nn.softmax_cross_entropy_with_logits(labels= y_label, logits= predict))\n",
    "    \n",
    "with tf.name_scope('SGD'): # Gradient Descent\n",
    "    optimizer = tf.train.GradientDescentOptimizer(learning_rate).minimize(cross_entropy_cost)\n",
    "    \n",
    "with tf.name_scope('Accuracy'): # 정확도\n",
    "    acc = tf.equal(tf.argmax(predict, 1), tf.argmax(y_label, 1)) #prediction과 label이 같은지 비교\n",
    "    acc = tf.reduce_mean(tf.cast(acc, tf.float32))\n",
    "    \n",
    "tf.summary.histogram(\"x_input\", x_input)\n",
    "tf.summary.histogram(\"predict\", predict)\n",
    "tf.summary.histogram(\"y_label\", y_label)\n",
    "tf.summary.scalar(\"loss\", cross_entropy_cost)\n",
    "tf.summary.scalar(\"accuracy\", acc)\n",
    "\n",
    "merged_summary_op = tf.summary.merge_all() #모든 summary 합치기"
   ]
  },
  {
   "cell_type": "code",
   "execution_count": 3,
   "metadata": {},
   "outputs": [
    {
     "name": "stdout",
     "output_type": "stream",
     "text": [
      "Epoch: 0001 cost= 2.685639223 정확도: 0.610499978\n",
      "Epoch: 0002 cost= 1.160617544 정확도: 0.724600017\n",
      "Epoch: 0003 cost= 0.877377688 정확도: 0.772000015\n",
      "Epoch: 0004 cost= 0.744412030 정확도: 0.801400006\n",
      "Epoch: 0005 cost= 0.662982765 정확도: 0.820100009\n",
      "Epoch: 0006 cost= 0.606362513 정확도: 0.831399977\n",
      "Epoch: 0007 cost= 0.563937137 정확도: 0.840799987\n",
      "Epoch: 0008 cost= 0.530964250 정확도: 0.848299980\n",
      "Epoch: 0009 cost= 0.503967098 정확도: 0.856199980\n",
      "Epoch: 0010 cost= 0.481431874 정확도: 0.861999989\n",
      "Epoch: 0011 cost= 0.462062760 정확도: 0.866100013\n",
      "Epoch: 0012 cost= 0.445542268 정확도: 0.869899988\n",
      "Epoch: 0013 cost= 0.430717297 정확도: 0.870800018\n",
      "Epoch: 0014 cost= 0.417914142 정확도: 0.875299990\n",
      "Epoch: 0015 cost= 0.406227851 정확도: 0.879199982\n",
      "Epoch: 0016 cost= 0.395911765 정확도: 0.882200003\n",
      "Epoch: 0017 cost= 0.386576554 정확도: 0.883899987\n",
      "Epoch: 0018 cost= 0.377915572 정확도: 0.885599971\n",
      "Epoch: 0019 cost= 0.369943570 정확도: 0.886200011\n",
      "Epoch: 0020 cost= 0.362637952 정확도: 0.888499975\n",
      "학습 끝!\n",
      "run_tensorboard.bat 실행! \n",
      "브라우저에서 http://localhost:6006/ 에 접속\n"
     ]
    }
   ],
   "source": [
    "with tf.Session() as sess:\n",
    "    sess.run(tf.global_variables_initializer())\n",
    "\n",
    "    # Tensorboard에 쓰기\n",
    "    summary_writer = tf.summary.FileWriter(logs_path, graph=sess.graph)\n",
    "\n",
    "    # Training cycle\n",
    "    for epoch in range(training_epochs):\n",
    "        avg_cost = 0.\n",
    "        total_batch = int(mnist.train.num_examples/batch_size)\n",
    "\n",
    "        for i in range(total_batch):\n",
    "            batch_xs, batch_ys = mnist.train.next_batch(batch_size)\n",
    "\n",
    "            _, c, summary = sess.run([optimizer, cross_entropy_cost, merged_summary_op],\n",
    "                                     feed_dict={x_input: batch_xs, y_label: batch_ys})\n",
    "\n",
    "            summary_writer.add_summary(summary, epoch * total_batch + i)\n",
    "\n",
    "            avg_cost += c / total_batch\n",
    "        accuracy = sess.run(acc, feed_dict={x_input: mnist.test.images, y_label: mnist.test.labels})\n",
    "        print (\"Epoch:\", '%04d' % (epoch+1), \"cost=\", \"{:.9f}\".format(avg_cost), \"정확도:\", \"{:.9f}\".format(accuracy)) #진행상황 출력\n",
    "\n",
    "    print(\"학습 끝!\")\n",
    "    \n",
    "    print(\"run_tensorboard.bat 실행!\" , \"\\n브라우저에서 http://localhost:6006/ 에 접속\")"
   ]
  },
  {
   "cell_type": "code",
   "execution_count": null,
   "metadata": {},
   "outputs": [],
   "source": []
  },
  {
   "cell_type": "code",
   "execution_count": null,
   "metadata": {},
   "outputs": [],
   "source": []
  }
 ],
 "metadata": {
  "kernelspec": {
   "display_name": "Python 3",
   "language": "python",
   "name": "python3"
  },
  "language_info": {
   "codemirror_mode": {
    "name": "ipython",
    "version": 3
   },
   "file_extension": ".py",
   "mimetype": "text/x-python",
   "name": "python",
   "nbconvert_exporter": "python",
   "pygments_lexer": "ipython3",
   "version": "3.7.5"
  }
 },
 "nbformat": 4,
 "nbformat_minor": 2
}
