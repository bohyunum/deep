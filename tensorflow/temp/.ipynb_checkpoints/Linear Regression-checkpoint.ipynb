{
 "cells": [
  {
   "cell_type": "code",
   "execution_count": 49,
   "metadata": {},
   "outputs": [],
   "source": [
    "import tensorflow as tf\n",
    "import matplotlib.pyplot as plt"
   ]
  },
  {
   "cell_type": "code",
   "execution_count": 50,
   "metadata": {},
   "outputs": [],
   "source": [
    "x_data = [4.0391, 1.3197, 9.5613, 0.5978, 3.5316, 0.1540, 1.6899, 7.3172, 4.5092, 2.9632]\n",
    "y_data = [11.4215, 10.0112, 30.2991, 1.0625, 13.1776, -3.1976, 6.7367, 23.8550, 14.8951, 11.6137]"
   ]
  },
  {
   "cell_type": "code",
   "execution_count": 51,
   "metadata": {},
   "outputs": [],
   "source": [
    "W = tf.Variable(tf.random_uniform([1], -5.0, 5.0))\n",
    "b = tf.Variable(tf.random_uniform([1], -5.0, 5.0))"
   ]
  },
  {
   "cell_type": "code",
   "execution_count": 52,
   "metadata": {},
   "outputs": [],
   "source": [
    "X = tf.placeholder(tf.float32)\n",
    "Y = tf.placeholder(tf.float32)"
   ]
  },
  {
   "cell_type": "code",
   "execution_count": 53,
   "metadata": {},
   "outputs": [],
   "source": [
    "hypothesis = W * X + b"
   ]
  },
  {
   "cell_type": "code",
   "execution_count": 54,
   "metadata": {},
   "outputs": [],
   "source": [
    "cost = tf.reduce_mean(tf.square(hypothesis - Y))"
   ]
  },
  {
   "cell_type": "code",
   "execution_count": 55,
   "metadata": {},
   "outputs": [],
   "source": [
    "a = tf.Variable(0.01)\n",
    "optimizer = tf.train.GradientDescentOptimizer(a)\n",
    "train = optimizer.minimize(cost)"
   ]
  },
  {
   "cell_type": "code",
   "execution_count": 56,
   "metadata": {},
   "outputs": [],
   "source": [
    "init = tf.initialize_all_variables()"
   ]
  },
  {
   "cell_type": "code",
   "execution_count": 57,
   "metadata": {},
   "outputs": [],
   "source": [
    "sess = tf.Session()\n",
    "sess.run(init)"
   ]
  },
  {
   "cell_type": "code",
   "execution_count": 61,
   "metadata": {},
   "outputs": [
    {
     "name": "stdout",
     "output_type": "stream",
     "text": [
      "0 8.5609 [2.699491] [3.3741279]\n",
      "20 7.818854 [2.7659059] [2.9942899]\n",
      "40 7.270232 [2.8230124] [2.6676877]\n",
      "60 6.864614 [2.8721151] [2.3868594]\n",
      "80 6.564728 [2.914336] [2.1453903]\n",
      "100 6.343011 [2.9506397] [1.9377638]\n",
      "120 6.1790876 [2.9818552] [1.7592366]\n",
      "140 6.0578933 [3.0086956] [1.605731]\n",
      "160 5.9682894 [3.0317745] [1.4737394]\n",
      "180 5.902042 [3.0516186] [1.3602473]\n",
      "200 5.853063 [3.0686815] [1.2626613]\n",
      "220 5.8168516 [3.083353] [1.1787524]\n",
      "240 5.7900786 [3.0959682] [1.1066039]\n",
      "260 5.770284 [3.1068153] [1.0445669]\n",
      "280 5.7556505 [3.1161423] [0.9912247]\n",
      "300 5.74483 [3.124162] [0.9453587]\n",
      "320 5.7368307 [3.1310575] [0.905921]\n",
      "340 5.730916 [3.1369867] [0.8720105]\n",
      "360 5.7265453 [3.142085] [0.8428528]\n",
      "380 5.723312 [3.1464686] [0.8177816]\n",
      "400 5.720922 [3.150238] [0.7962242]\n",
      "420 5.7191553 [3.153479] [0.7776882]\n",
      "440 5.717848 [3.1562657] [0.7617499]\n",
      "460 5.716882 [3.158662] [0.74804556]\n",
      "480 5.716168 [3.1607225] [0.73626184]\n",
      "500 5.7156396 [3.1624942] [0.7261295]\n",
      "520 5.7152495 [3.1640174] [0.7174173]\n",
      "540 5.714961 [3.1653273] [0.7099263]\n",
      "560 5.7147474 [3.1664536] [0.703485]\n",
      "580 5.7145896 [3.167422] [0.6979466]\n",
      "600 5.714473 [3.1682546] [0.69318444]\n",
      "620 5.714386 [3.1689706] [0.6890897]\n",
      "640 5.7143226 [3.1695862] [0.6855689]\n",
      "660 5.714276 [3.1701155] [0.68254155]\n",
      "680 5.714241 [3.1705709] [0.6799384]\n",
      "700 5.7142143 [3.1709619] [0.67770004]\n",
      "720 5.714196 [3.1712985] [0.67577547]\n",
      "740 5.714183 [3.171588] [0.6741206]\n",
      "760 5.7141714 [3.1718369] [0.6726977]\n",
      "780 5.7141633 [3.1720507] [0.6714742]\n",
      "800 5.714158 [3.1722345] [0.67042226]\n",
      "820 5.714154 [3.1723926] [0.6695179]\n",
      "840 5.7141504 [3.1725287] [0.6687402]\n",
      "860 5.7141485 [3.1726456] [0.6680714]\n",
      "880 5.7141466 [3.1727462] [0.66749644]\n",
      "900 5.7141466 [3.1728325] [0.66700196]\n",
      "920 5.7141447 [3.1729069] [0.66657674]\n",
      "940 5.7141438 [3.1729708] [0.6662112]\n",
      "960 5.7141433 [3.1730258] [0.66589683]\n",
      "980 5.714143 [3.173073] [0.6656266]\n",
      "1000 5.7141423 [3.1731136] [0.66539425]\n",
      "1020 5.7141423 [3.1731486] [0.6651945]\n",
      "1040 5.714142 [3.1731787] [0.6650227]\n",
      "1060 5.714143 [3.1732044] [0.664875]\n",
      "1080 5.7141423 [3.1732268] [0.66474795]\n",
      "1100 5.7141423 [3.173246] [0.66463864]\n",
      "1120 5.714143 [3.1732621] [0.66454476]\n",
      "1140 5.714143 [3.1732764] [0.66446406]\n",
      "1160 5.7141423 [3.1732883] [0.66439456]\n",
      "1180 5.7141423 [3.1732988] [0.6643349]\n",
      "1200 5.7141423 [3.1733081] [0.6642836]\n",
      "1220 5.7141423 [3.1733155] [0.6642394]\n",
      "1240 5.714143 [3.1733222] [0.6642014]\n",
      "1260 5.714141 [3.173328] [0.66416883]\n",
      "1280 5.7141423 [3.173333] [0.6641409]\n",
      "1300 5.714142 [3.1733372] [0.66411656]\n",
      "1320 5.714143 [3.1733408] [0.6640958]\n",
      "1340 5.714142 [3.173344] [0.66407794]\n",
      "1360 5.714143 [3.1733465] [0.6640626]\n",
      "1380 5.7141423 [3.173349] [0.6640493]\n",
      "1400 5.7141423 [3.1733508] [0.66403806]\n",
      "1420 5.714143 [3.1733525] [0.66402835]\n",
      "1440 5.7141423 [3.173354] [0.66402]\n",
      "1460 5.714142 [3.1733553] [0.66401297]\n",
      "1480 5.714142 [3.1733563] [0.6640069]\n",
      "1500 5.7141423 [3.1733572] [0.66400164]\n",
      "1520 5.714143 [3.1733577] [0.66399705]\n",
      "1540 5.714143 [3.1733584] [0.66399336]\n",
      "1560 5.7141423 [3.1733592] [0.6639898]\n",
      "1580 5.7141423 [3.1733596] [0.6639873]\n",
      "1600 5.714142 [3.17336] [0.6639849]\n",
      "1620 5.7141423 [3.1733603] [0.66398257]\n",
      "1640 5.714142 [3.1733608] [0.6639811]\n",
      "1660 5.714142 [3.1733608] [0.6639798]\n",
      "1680 5.714142 [3.173361] [0.66397864]\n",
      "1700 5.7141423 [3.1733613] [0.66397744]\n",
      "1720 5.714143 [3.1733615] [0.66397625]\n",
      "1740 5.714141 [3.1733618] [0.66397506]\n",
      "1760 5.714142 [3.1733618] [0.6639742]\n",
      "1780 5.714142 [3.1733618] [0.6639742]\n",
      "1800 5.714142 [3.1733618] [0.6639742]\n",
      "1820 5.714142 [3.1733618] [0.6639742]\n",
      "1840 5.714142 [3.1733618] [0.6639742]\n",
      "1860 5.714142 [3.1733618] [0.6639742]\n",
      "1880 5.714142 [3.1733618] [0.6639742]\n",
      "1900 5.714142 [3.1733618] [0.6639742]\n",
      "1920 5.714142 [3.1733618] [0.6639742]\n",
      "1940 5.714142 [3.1733618] [0.6639742]\n",
      "1960 5.714142 [3.1733618] [0.6639742]\n",
      "1980 5.714142 [3.1733618] [0.6639742]\n",
      "2000 5.714142 [3.1733618] [0.6639742]\n"
     ]
    }
   ],
   "source": [
    "for step in range(2001):\n",
    "    sess.run(train, feed_dict={X:x_data, Y:y_data})\n",
    "    if step % 20 == 0:\n",
    "        print(step, sess.run(cost, feed_dict={X:x_data, Y:y_data}), sess.run(W), sess.run(b))"
   ]
  },
  {
   "cell_type": "code",
   "execution_count": 59,
   "metadata": {},
   "outputs": [
    {
     "name": "stdout",
     "output_type": "stream",
     "text": [
      "When X=5, hypothesis = [16.874166]\n"
     ]
    }
   ],
   "source": [
    "answer = sess.run(hypothesis, feed_dict={X:5})\n",
    "print ('When X=5, hypothesis = ' + str(answer))"
   ]
  },
  {
   "cell_type": "code",
   "execution_count": 60,
   "metadata": {},
   "outputs": [
    {
     "data": {
      "image/png": "[encoded data removed]",
      "text/plain": [
       "<Figure size 432x288 with 1 Axes>"
      ]
     },
     "metadata": {
      "needs_background": "light"
     },
     "output_type": "display_data"
    }
   ],
   "source": [
    "plt.figure(1)\n",
    "plt.title('Linear Regression')\n",
    "plt.xlabel('x')\n",
    "plt.ylabel('y')\n",
    "plt.plot(x_data, y_data, 'ro')\n",
    "plt.plot(x_data, sess.run(W) * x_data + sess.run(b), 'b')\n",
    "plt.plot([5], answer, 'go')\n",
    "plt.show()"
   ]
  },
  {
   "cell_type": "code",
   "execution_count": null,
   "metadata": {},
   "outputs": [],
   "source": []
  },
  {
   "cell_type": "code",
   "execution_count": null,
   "metadata": {},
   "outputs": [],
   "source": []
  }
 ],
 "metadata": {
  "kernelspec": {
   "display_name": "Python 3",
   "language": "python",
   "name": "python3"
  },
  "language_info": {
   "codemirror_mode": {
    "name": "ipython",
    "version": 3
   },
   "file_extension": ".py",
   "mimetype": "text/x-python",
   "name": "python",
   "nbconvert_exporter": "python",
   "pygments_lexer": "ipython3",
   "version": "3.7.5"
  }
 },
 "nbformat": 4,
 "nbformat_minor": 4
}
