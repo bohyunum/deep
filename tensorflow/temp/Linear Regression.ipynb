{
 "cells": [
  {
   "cell_type": "code",
   "execution_count": 85,
   "metadata": {},
   "outputs": [],
   "source": [
    "import tensorflow as tf\n",
    "import matplotlib.pyplot as plt"
   ]
  },
  {
   "cell_type": "code",
   "execution_count": 86,
   "metadata": {},
   "outputs": [],
   "source": [
    "x_data = [4.0391, 1.3197, 9.5613, 0.5978, 3.5316, 0.1540, 1.6899, 7.3172, 4.5092, 2.9632]\n",
    "y_data = [11.4215, 10.0112, 30.2991, 1.0625, 13.1776, -3.1976, 6.7367, 23.8550, 14.8951, 11.6137]"
   ]
  },
  {
   "cell_type": "code",
   "execution_count": 87,
   "metadata": {},
   "outputs": [],
   "source": [
    "W = tf.Variable(tf.random_uniform([1], -5.0, 5.0))\n",
    "b = tf.Variable(tf.random_uniform([1], -5.0, 5.0))"
   ]
  },
  {
   "cell_type": "code",
   "execution_count": 88,
   "metadata": {},
   "outputs": [],
   "source": [
    "X = tf.placeholder(tf.float32)\n",
    "Y = tf.placeholder(tf.float32)"
   ]
  },
  {
   "cell_type": "code",
   "execution_count": 89,
   "metadata": {},
   "outputs": [],
   "source": [
    "hypothesis = W * X + b"
   ]
  },
  {
   "cell_type": "code",
   "execution_count": 90,
   "metadata": {},
   "outputs": [],
   "source": [
    "cost = tf.reduce_mean(tf.square(hypothesis - Y))"
   ]
  },
  {
   "cell_type": "code",
   "execution_count": 91,
   "metadata": {},
   "outputs": [],
   "source": [
    "a = tf.Variable(0.01)\n",
    "optimizer = tf.train.GradientDescentOptimizer(a)\n",
    "train = optimizer.minimize(cost)"
   ]
  },
  {
   "cell_type": "code",
   "execution_count": 92,
   "metadata": {},
   "outputs": [],
   "source": [
    "init = tf.initialize_all_variables()"
   ]
  },
  {
   "cell_type": "code",
   "execution_count": 93,
   "metadata": {},
   "outputs": [],
   "source": [
    "sess = tf.Session()\n",
    "sess.run(init)"
   ]
  },
  {
   "cell_type": "code",
   "execution_count": 94,
   "metadata": {},
   "outputs": [
    {
     "name": "stdout",
     "output_type": "stream",
     "text": [
      "0 11.719256 [2.9408903] [3.853587]\n",
      "20 8.5294285 [2.7021222] [3.3591058]\n",
      "40 7.7955832 [2.7681642] [2.9813724]\n",
      "60 7.253029 [2.8249543] [2.6565807]\n",
      "80 6.851896 [2.873785] [2.3773093]\n",
      "100 6.5553236 [2.915772] [2.1371782]\n",
      "120 6.3360586 [2.9518743] [1.9307028]\n",
      "140 6.1739473 [2.9829166] [1.7531656]\n",
      "160 6.0540924 [3.0096083] [1.6005111]\n",
      "180 5.9654794 [3.0325592] [1.4692514]\n",
      "200 5.899965 [3.0522933] [1.3563881]\n",
      "220 5.851527 [3.0692616] [1.2593431]\n",
      "240 5.815716 [3.0838518] [1.1758993]\n",
      "260 5.78924 [3.0963972] [1.1041505]\n",
      "280 5.769665 [3.1071842] [1.0424573]\n",
      "300 5.7551913 [3.1164594] [0.98941094]\n",
      "320 5.7444906 [3.1244345] [0.9437991]\n",
      "340 5.7365794 [3.131292] [0.90457994]\n",
      "360 5.7307315 [3.1371884] [0.8708574]\n",
      "380 5.726408 [3.1422584] [0.84186125]\n",
      "400 5.7232103 [3.146618] [0.8169289]\n",
      "420 5.7208457 [3.1503663] [0.7954911]\n",
      "440 5.7190986 [3.1535895] [0.77705777]\n",
      "460 5.7178063 [3.1563606] [0.7612079]\n",
      "480 5.716851 [3.1587436] [0.74757934]\n",
      "500 5.7161455 [3.1607926] [0.735861]\n",
      "520 5.715623 [3.1625545] [0.72578514]\n",
      "540 5.7152376 [3.1640692] [0.7171214]\n",
      "560 5.714952 [3.165372] [0.70967203]\n",
      "580 5.7147403 [3.1664917] [0.70326644]\n",
      "600 5.714584 [3.1674547] [0.69775856]\n",
      "620 5.714469 [3.1682827] [0.69302285]\n",
      "640 5.714383 [3.168995] [0.6889508]\n",
      "660 5.7143207 [3.1696072] [0.6854494]\n",
      "680 5.7142744 [3.1701336] [0.68243885]\n",
      "700 5.7142386 [3.170586] [0.67985016]\n",
      "720 5.7142153 [3.1709752] [0.67762434]\n",
      "740 5.7141953 [3.17131] [0.6757104]\n",
      "760 5.714182 [3.1715977] [0.67406476]\n",
      "780 5.714171 [3.1718452] [0.6726497]\n",
      "800 5.714163 [3.1720579] [0.671433]\n",
      "820 5.714158 [3.1722407] [0.67038685]\n",
      "840 5.714154 [3.172398] [0.6694873]\n",
      "860 5.7141504 [3.1725333] [0.6687138]\n",
      "880 5.7141485 [3.1726496] [0.6680487]\n",
      "900 5.7141466 [3.1727495] [0.66747683]\n",
      "920 5.714145 [3.1728356] [0.6669853]\n",
      "940 5.7141447 [3.1729095] [0.66656244]\n",
      "960 5.714144 [3.172973] [0.6661989]\n",
      "980 5.7141438 [3.1730278] [0.66588646]\n",
      "1000 5.714143 [3.1730747] [0.66561764]\n",
      "1020 5.714143 [3.173115] [0.66538656]\n",
      "1040 5.714143 [3.1731498] [0.6651879]\n",
      "1060 5.7141433 [3.1731796] [0.6650171]\n",
      "1080 5.714143 [3.1732051] [0.66487026]\n",
      "1100 5.7141423 [3.1732273] [0.6647439]\n",
      "1120 5.7141423 [3.1732464] [0.66463524]\n",
      "1140 5.714142 [3.1732626] [0.6645417]\n",
      "1160 5.7141423 [3.173277] [0.6644614]\n",
      "1180 5.714142 [3.173289] [0.6643921]\n",
      "1200 5.7141423 [3.1732993] [0.66433275]\n",
      "1220 5.7141414 [3.1733084] [0.6642817]\n",
      "1240 5.714142 [3.173316] [0.6642376]\n",
      "1260 5.7141423 [3.1733224] [0.66420007]\n",
      "1280 5.714142 [3.173328] [0.66416776]\n",
      "1300 5.714143 [3.173333] [0.6641399]\n",
      "1320 5.7141423 [3.1733372] [0.664116]\n",
      "1340 5.7141423 [3.1733408] [0.66409516]\n",
      "1360 5.714142 [3.1733441] [0.6640774]\n",
      "1380 5.7141423 [3.1733468] [0.66406214]\n",
      "1400 5.7141423 [3.173349] [0.6640491]\n",
      "1420 5.7141423 [3.1733508] [0.6640378]\n",
      "1440 5.714142 [3.1733527] [0.6640281]\n",
      "1460 5.7141423 [3.173354] [0.6640197]\n",
      "1480 5.7141423 [3.1733553] [0.6640127]\n",
      "1500 5.714142 [3.1733563] [0.6640066]\n",
      "1520 5.7141423 [3.1733572] [0.6640014]\n",
      "1540 5.714143 [3.173358] [0.6639969]\n",
      "1560 5.7141423 [3.1733587] [0.6639932]\n",
      "1580 5.714142 [3.1733592] [0.6639896]\n",
      "1600 5.7141423 [3.1733596] [0.66398716]\n",
      "1620 5.7141423 [3.17336] [0.6639848]\n",
      "1640 5.7141414 [3.1733603] [0.66398245]\n",
      "1660 5.714142 [3.1733608] [0.66398096]\n",
      "1680 5.7141423 [3.1733608] [0.66397977]\n",
      "1700 5.714142 [3.173361] [0.6639786]\n",
      "1720 5.714143 [3.1733613] [0.6639774]\n",
      "1740 5.714142 [3.1733615] [0.6639762]\n",
      "1760 5.714141 [3.1733618] [0.663975]\n",
      "1780 5.714142 [3.1733618] [0.6639742]\n",
      "1800 5.714142 [3.1733618] [0.6639742]\n",
      "1820 5.714142 [3.1733618] [0.6639742]\n",
      "1840 5.714142 [3.1733618] [0.6639742]\n",
      "1860 5.714142 [3.1733618] [0.6639742]\n",
      "1880 5.714142 [3.1733618] [0.6639742]\n",
      "1900 5.714142 [3.1733618] [0.6639742]\n",
      "1920 5.714142 [3.1733618] [0.6639742]\n",
      "1940 5.714142 [3.1733618] [0.6639742]\n",
      "1960 5.714142 [3.1733618] [0.6639742]\n",
      "1980 5.714142 [3.1733618] [0.6639742]\n",
      "2000 5.714142 [3.1733618] [0.6639742]\n"
     ]
    }
   ],
   "source": [
    "for step in range(2001):\n",
    "    sess.run(train, feed_dict={X:x_data, Y:y_data})\n",
    "    if step % 20 == 0:\n",
    "        print(step, sess.run(cost, feed_dict={X:x_data, Y:y_data}), sess.run(W), sess.run(b))"
   ]
  },
  {
   "cell_type": "code",
   "execution_count": 95,
   "metadata": {},
   "outputs": [
    {
     "name": "stdout",
     "output_type": "stream",
     "text": [
      "When X=5, hypothesis = [16.530783]\n"
     ]
    }
   ],
   "source": [
    "answer = sess.run(hypothesis, feed_dict={X:5})\n",
    "print ('When X=5, hypothesis = ' + str(answer))"
   ]
  },
  {
   "cell_type": "code",
   "execution_count": 96,
   "metadata": {
    "scrolled": true
   },
   "outputs": [
    {
     "data": {
      "image/png": "[encoded data removed]",
      "text/plain": [
       "<Figure size 432x288 with 1 Axes>"
      ]
     },
     "metadata": {
      "needs_background": "light"
     },
     "output_type": "display_data"
    }
   ],
   "source": [
    "plt.figure(1)\n",
    "plt.title('Linear Regression')\n",
    "plt.xlabel('x')\n",
    "plt.ylabel('y')\n",
    "plt.plot(x_data, y_data, 'ro')\n",
    "plt.plot(x_data, sess.run(W) * x_data + sess.run(b), 'b')\n",
    "plt.plot([5], answer, 'go')\n",
    "plt.show()"
   ]
  },
  {
   "cell_type": "code",
   "execution_count": null,
   "metadata": {},
   "outputs": [],
   "source": []
  },
  {
   "cell_type": "code",
   "execution_count": null,
   "metadata": {},
   "outputs": [],
   "source": []
  }
 ],
 "metadata": {
  "kernelspec": {
   "display_name": "Python 3",
   "language": "python",
   "name": "python3"
  },
  "language_info": {
   "codemirror_mode": {
    "name": "ipython",
    "version": 3
   },
   "file_extension": ".py",
   "mimetype": "text/x-python",
   "name": "python",
   "nbconvert_exporter": "python",
   "pygments_lexer": "ipython3",
   "version": "3.7.5"
  }
 },
 "nbformat": 4,
 "nbformat_minor": 4
}
